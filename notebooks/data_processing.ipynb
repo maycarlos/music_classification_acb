{
 "cells": [
  {
   "cell_type": "code",
   "execution_count": 239,
   "metadata": {},
   "outputs": [],
   "source": [
    "import pandas as pd\n",
    "import numpy as np\n",
    "import matplotlib as mpl\n",
    "import matplotlib.pyplot as plt\n",
    "import seaborn as sns\n",
    "import sklearn\n",
    "\n",
    "from sklearn.preprocessing import StandardScaler,MinMaxScaler, RobustScaler, LabelEncoder\n",
    "from sklearn.feature_selection import VarianceThreshold, SelectKBest, f_classif, mutual_info_classif\n",
    "from sklearn.pipeline import Pipeline\n",
    "\n",
    "%matplotlib inline"
   ]
  },
  {
   "cell_type": "code",
   "execution_count": 240,
   "metadata": {},
   "outputs": [
    {
     "data": {
      "text/plain": [
       "Generator(PCG64) at 0x7F02D1988120"
      ]
     },
     "execution_count": 240,
     "metadata": {},
     "output_type": "execute_result"
    }
   ],
   "source": [
    "SEED = 123\n",
    "\n",
    "np.random.default_rng(seed=SEED)"
   ]
  },
  {
   "cell_type": "code",
   "execution_count": 241,
   "metadata": {},
   "outputs": [
    {
     "data": {
      "text/plain": [
       "['1.5.3', '1.24.2', '1.2.1']"
      ]
     },
     "execution_count": 241,
     "metadata": {},
     "output_type": "execute_result"
    }
   ],
   "source": [
    "[\n",
    "    pd.__version__,\n",
    "    np.__version__,\n",
    "    sklearn.__version__\n",
    "]"
   ]
  },
  {
   "cell_type": "code",
   "execution_count": 242,
   "metadata": {},
   "outputs": [],
   "source": [
    "plt.style.use(\"fivethirtyeight\")"
   ]
  },
  {
   "cell_type": "code",
   "execution_count": 243,
   "metadata": {},
   "outputs": [
    {
     "data": {
      "text/plain": [
       "(999, 199)"
      ]
     },
     "execution_count": 243,
     "metadata": {},
     "output_type": "execute_result"
    }
   ],
   "source": [
    "df_raw = pd.read_csv(\"../data/dados.csv\")\n",
    "df_raw.shape"
   ]
  },
  {
   "cell_type": "code",
   "execution_count": 244,
   "metadata": {},
   "outputs": [
    {
     "data": {
      "text/html": [
       "<div>\n",
       "<style scoped>\n",
       "    .dataframe tbody tr th:only-of-type {\n",
       "        vertical-align: middle;\n",
       "    }\n",
       "\n",
       "    .dataframe tbody tr th {\n",
       "        vertical-align: top;\n",
       "    }\n",
       "\n",
       "    .dataframe thead th {\n",
       "        text-align: right;\n",
       "    }\n",
       "</style>\n",
       "<table border=\"1\" class=\"dataframe\">\n",
       "  <thead>\n",
       "    <tr style=\"text-align: right;\">\n",
       "      <th></th>\n",
       "      <th>filename</th>\n",
       "      <th>tempo</th>\n",
       "      <th>chroma_stft_mean</th>\n",
       "      <th>chroma_stft_var</th>\n",
       "      <th>chroma_stft_max</th>\n",
       "      <th>chroma_stft_min</th>\n",
       "      <th>chroma_stft_median</th>\n",
       "      <th>chroma_stft_qt1</th>\n",
       "      <th>chroma_stft_qt2</th>\n",
       "      <th>rms_mean_mean</th>\n",
       "      <th>...</th>\n",
       "      <th>mfcc_mean_18_qt1</th>\n",
       "      <th>mfcc_mean_18_qt2</th>\n",
       "      <th>mfcc_mean_19_mean</th>\n",
       "      <th>mfcc_mean_19_var</th>\n",
       "      <th>mfcc_mean_19_max</th>\n",
       "      <th>mfcc_mean_19_min</th>\n",
       "      <th>mfcc_mean_19_median</th>\n",
       "      <th>mfcc_mean_19_qt1</th>\n",
       "      <th>mfcc_mean_19_qt2</th>\n",
       "      <th>label</th>\n",
       "    </tr>\n",
       "  </thead>\n",
       "  <tbody>\n",
       "    <tr>\n",
       "      <th>0</th>\n",
       "      <td>blues.00000.wav</td>\n",
       "      <td>123.046875</td>\n",
       "      <td>0.350129</td>\n",
       "      <td>0.088772</td>\n",
       "      <td>1.0</td>\n",
       "      <td>0.001883</td>\n",
       "      <td>0.254469</td>\n",
       "      <td>0.112016</td>\n",
       "      <td>0.509971</td>\n",
       "      <td>0.130184</td>\n",
       "      <td>...</td>\n",
       "      <td>-7.189630</td>\n",
       "      <td>1.837867</td>\n",
       "      <td>1.222467</td>\n",
       "      <td>46.941350</td>\n",
       "      <td>32.866340</td>\n",
       "      <td>-23.219631</td>\n",
       "      <td>0.941804</td>\n",
       "      <td>-3.579244</td>\n",
       "      <td>5.497650</td>\n",
       "      <td>blues</td>\n",
       "    </tr>\n",
       "    <tr>\n",
       "      <th>1</th>\n",
       "      <td>blues.00001.wav</td>\n",
       "      <td>107.666016</td>\n",
       "      <td>0.340849</td>\n",
       "      <td>0.094976</td>\n",
       "      <td>1.0</td>\n",
       "      <td>0.001808</td>\n",
       "      <td>0.232328</td>\n",
       "      <td>0.089450</td>\n",
       "      <td>0.521089</td>\n",
       "      <td>0.095908</td>\n",
       "      <td>...</td>\n",
       "      <td>-4.961407</td>\n",
       "      <td>4.222943</td>\n",
       "      <td>0.530644</td>\n",
       "      <td>45.788700</td>\n",
       "      <td>27.740532</td>\n",
       "      <td>-17.131062</td>\n",
       "      <td>0.290101</td>\n",
       "      <td>-4.288013</td>\n",
       "      <td>4.693344</td>\n",
       "      <td>blues</td>\n",
       "    </tr>\n",
       "    <tr>\n",
       "      <th>2</th>\n",
       "      <td>blues.00002.wav</td>\n",
       "      <td>161.499023</td>\n",
       "      <td>0.363538</td>\n",
       "      <td>0.085257</td>\n",
       "      <td>1.0</td>\n",
       "      <td>0.003168</td>\n",
       "      <td>0.275098</td>\n",
       "      <td>0.130408</td>\n",
       "      <td>0.520045</td>\n",
       "      <td>0.175473</td>\n",
       "      <td>...</td>\n",
       "      <td>-8.082528</td>\n",
       "      <td>0.335357</td>\n",
       "      <td>-2.238128</td>\n",
       "      <td>30.653150</td>\n",
       "      <td>16.524359</td>\n",
       "      <td>-29.785423</td>\n",
       "      <td>-2.112655</td>\n",
       "      <td>-5.789953</td>\n",
       "      <td>1.266118</td>\n",
       "      <td>blues</td>\n",
       "    </tr>\n",
       "    <tr>\n",
       "      <th>3</th>\n",
       "      <td>blues.00003.wav</td>\n",
       "      <td>172.265625</td>\n",
       "      <td>0.404854</td>\n",
       "      <td>0.093999</td>\n",
       "      <td>1.0</td>\n",
       "      <td>0.005738</td>\n",
       "      <td>0.320005</td>\n",
       "      <td>0.145432</td>\n",
       "      <td>0.622788</td>\n",
       "      <td>0.141040</td>\n",
       "      <td>...</td>\n",
       "      <td>-4.728713</td>\n",
       "      <td>3.534681</td>\n",
       "      <td>-3.405046</td>\n",
       "      <td>31.965254</td>\n",
       "      <td>16.595015</td>\n",
       "      <td>-21.426252</td>\n",
       "      <td>-3.723261</td>\n",
       "      <td>-6.868982</td>\n",
       "      <td>-0.029808</td>\n",
       "      <td>blues</td>\n",
       "    </tr>\n",
       "    <tr>\n",
       "      <th>4</th>\n",
       "      <td>blues.00004.wav</td>\n",
       "      <td>135.999178</td>\n",
       "      <td>0.308526</td>\n",
       "      <td>0.087843</td>\n",
       "      <td>1.0</td>\n",
       "      <td>0.001347</td>\n",
       "      <td>0.201387</td>\n",
       "      <td>0.084953</td>\n",
       "      <td>0.429789</td>\n",
       "      <td>0.091501</td>\n",
       "      <td>...</td>\n",
       "      <td>-9.217802</td>\n",
       "      <td>0.448059</td>\n",
       "      <td>-11.704385</td>\n",
       "      <td>55.190254</td>\n",
       "      <td>4.889852</td>\n",
       "      <td>-41.730530</td>\n",
       "      <td>-10.748793</td>\n",
       "      <td>-15.777891</td>\n",
       "      <td>-6.449556</td>\n",
       "      <td>blues</td>\n",
       "    </tr>\n",
       "  </tbody>\n",
       "</table>\n",
       "<p>5 rows × 199 columns</p>\n",
       "</div>"
      ],
      "text/plain": [
       "          filename       tempo  chroma_stft_mean  chroma_stft_var  \\\n",
       "0  blues.00000.wav  123.046875          0.350129         0.088772   \n",
       "1  blues.00001.wav  107.666016          0.340849         0.094976   \n",
       "2  blues.00002.wav  161.499023          0.363538         0.085257   \n",
       "3  blues.00003.wav  172.265625          0.404854         0.093999   \n",
       "4  blues.00004.wav  135.999178          0.308526         0.087843   \n",
       "\n",
       "   chroma_stft_max  chroma_stft_min  chroma_stft_median  chroma_stft_qt1  \\\n",
       "0              1.0         0.001883            0.254469         0.112016   \n",
       "1              1.0         0.001808            0.232328         0.089450   \n",
       "2              1.0         0.003168            0.275098         0.130408   \n",
       "3              1.0         0.005738            0.320005         0.145432   \n",
       "4              1.0         0.001347            0.201387         0.084953   \n",
       "\n",
       "   chroma_stft_qt2  rms_mean_mean  ...  mfcc_mean_18_qt1  mfcc_mean_18_qt2  \\\n",
       "0         0.509971       0.130184  ...         -7.189630          1.837867   \n",
       "1         0.521089       0.095908  ...         -4.961407          4.222943   \n",
       "2         0.520045       0.175473  ...         -8.082528          0.335357   \n",
       "3         0.622788       0.141040  ...         -4.728713          3.534681   \n",
       "4         0.429789       0.091501  ...         -9.217802          0.448059   \n",
       "\n",
       "   mfcc_mean_19_mean  mfcc_mean_19_var  mfcc_mean_19_max  mfcc_mean_19_min  \\\n",
       "0           1.222467         46.941350         32.866340        -23.219631   \n",
       "1           0.530644         45.788700         27.740532        -17.131062   \n",
       "2          -2.238128         30.653150         16.524359        -29.785423   \n",
       "3          -3.405046         31.965254         16.595015        -21.426252   \n",
       "4         -11.704385         55.190254          4.889852        -41.730530   \n",
       "\n",
       "   mfcc_mean_19_median  mfcc_mean_19_qt1  mfcc_mean_19_qt2  label  \n",
       "0             0.941804         -3.579244          5.497650  blues  \n",
       "1             0.290101         -4.288013          4.693344  blues  \n",
       "2            -2.112655         -5.789953          1.266118  blues  \n",
       "3            -3.723261         -6.868982         -0.029808  blues  \n",
       "4           -10.748793        -15.777891         -6.449556  blues  \n",
       "\n",
       "[5 rows x 199 columns]"
      ]
     },
     "execution_count": 244,
     "metadata": {},
     "output_type": "execute_result"
    }
   ],
   "source": [
    "df_raw.head()"
   ]
  },
  {
   "cell_type": "code",
   "execution_count": 245,
   "metadata": {},
   "outputs": [
    {
     "data": {
      "text/html": [
       "<div>\n",
       "<style scoped>\n",
       "    .dataframe tbody tr th:only-of-type {\n",
       "        vertical-align: middle;\n",
       "    }\n",
       "\n",
       "    .dataframe tbody tr th {\n",
       "        vertical-align: top;\n",
       "    }\n",
       "\n",
       "    .dataframe thead th {\n",
       "        text-align: right;\n",
       "    }\n",
       "</style>\n",
       "<table border=\"1\" class=\"dataframe\">\n",
       "  <thead>\n",
       "    <tr style=\"text-align: right;\">\n",
       "      <th></th>\n",
       "      <th>filename</th>\n",
       "      <th>tempo</th>\n",
       "      <th>chroma_stft_mean</th>\n",
       "      <th>chroma_stft_var</th>\n",
       "      <th>chroma_stft_max</th>\n",
       "      <th>chroma_stft_min</th>\n",
       "      <th>chroma_stft_median</th>\n",
       "      <th>chroma_stft_qt1</th>\n",
       "      <th>chroma_stft_qt2</th>\n",
       "      <th>rms_mean_mean</th>\n",
       "      <th>...</th>\n",
       "      <th>mfcc_mean_18_qt1</th>\n",
       "      <th>mfcc_mean_18_qt2</th>\n",
       "      <th>mfcc_mean_19_mean</th>\n",
       "      <th>mfcc_mean_19_var</th>\n",
       "      <th>mfcc_mean_19_max</th>\n",
       "      <th>mfcc_mean_19_min</th>\n",
       "      <th>mfcc_mean_19_median</th>\n",
       "      <th>mfcc_mean_19_qt1</th>\n",
       "      <th>mfcc_mean_19_qt2</th>\n",
       "      <th>label</th>\n",
       "    </tr>\n",
       "  </thead>\n",
       "  <tbody>\n",
       "    <tr>\n",
       "      <th>994</th>\n",
       "      <td>rock.00095.wav</td>\n",
       "      <td>103.359375</td>\n",
       "      <td>0.351977</td>\n",
       "      <td>0.080479</td>\n",
       "      <td>1.0</td>\n",
       "      <td>0.005424</td>\n",
       "      <td>0.263867</td>\n",
       "      <td>0.130719</td>\n",
       "      <td>0.486072</td>\n",
       "      <td>0.079446</td>\n",
       "      <td>...</td>\n",
       "      <td>-10.667875</td>\n",
       "      <td>-2.157617</td>\n",
       "      <td>-1.198403</td>\n",
       "      <td>49.946903</td>\n",
       "      <td>21.106043</td>\n",
       "      <td>-22.082030</td>\n",
       "      <td>-0.870149</td>\n",
       "      <td>-5.877096</td>\n",
       "      <td>3.354293</td>\n",
       "      <td>rock</td>\n",
       "    </tr>\n",
       "    <tr>\n",
       "      <th>995</th>\n",
       "      <td>rock.00096.wav</td>\n",
       "      <td>117.453835</td>\n",
       "      <td>0.398869</td>\n",
       "      <td>0.075117</td>\n",
       "      <td>1.0</td>\n",
       "      <td>0.015388</td>\n",
       "      <td>0.323889</td>\n",
       "      <td>0.184963</td>\n",
       "      <td>0.541574</td>\n",
       "      <td>0.076423</td>\n",
       "      <td>...</td>\n",
       "      <td>-11.642376</td>\n",
       "      <td>-3.169349</td>\n",
       "      <td>-2.791855</td>\n",
       "      <td>31.719294</td>\n",
       "      <td>14.861097</td>\n",
       "      <td>-19.902115</td>\n",
       "      <td>-3.008246</td>\n",
       "      <td>-6.528909</td>\n",
       "      <td>0.997393</td>\n",
       "      <td>rock</td>\n",
       "    </tr>\n",
       "    <tr>\n",
       "      <th>996</th>\n",
       "      <td>rock.00097.wav</td>\n",
       "      <td>129.199219</td>\n",
       "      <td>0.431980</td>\n",
       "      <td>0.075221</td>\n",
       "      <td>1.0</td>\n",
       "      <td>0.006835</td>\n",
       "      <td>0.370889</td>\n",
       "      <td>0.216633</td>\n",
       "      <td>0.591718</td>\n",
       "      <td>0.081598</td>\n",
       "      <td>...</td>\n",
       "      <td>-17.128510</td>\n",
       "      <td>-8.109871</td>\n",
       "      <td>-2.104325</td>\n",
       "      <td>29.860994</td>\n",
       "      <td>16.930466</td>\n",
       "      <td>-21.867311</td>\n",
       "      <td>-1.863467</td>\n",
       "      <td>-5.494790</td>\n",
       "      <td>1.414281</td>\n",
       "      <td>rock</td>\n",
       "    </tr>\n",
       "    <tr>\n",
       "      <th>997</th>\n",
       "      <td>rock.00098.wav</td>\n",
       "      <td>112.347147</td>\n",
       "      <td>0.362635</td>\n",
       "      <td>0.091532</td>\n",
       "      <td>1.0</td>\n",
       "      <td>0.000592</td>\n",
       "      <td>0.274618</td>\n",
       "      <td>0.110386</td>\n",
       "      <td>0.549156</td>\n",
       "      <td>0.083802</td>\n",
       "      <td>...</td>\n",
       "      <td>-9.732834</td>\n",
       "      <td>-0.612432</td>\n",
       "      <td>-3.587599</td>\n",
       "      <td>41.296356</td>\n",
       "      <td>20.287260</td>\n",
       "      <td>-22.774874</td>\n",
       "      <td>-3.836333</td>\n",
       "      <td>-7.861920</td>\n",
       "      <td>0.380314</td>\n",
       "      <td>rock</td>\n",
       "    </tr>\n",
       "    <tr>\n",
       "      <th>998</th>\n",
       "      <td>rock.00099.wav</td>\n",
       "      <td>123.046875</td>\n",
       "      <td>0.358318</td>\n",
       "      <td>0.085817</td>\n",
       "      <td>1.0</td>\n",
       "      <td>0.004010</td>\n",
       "      <td>0.262763</td>\n",
       "      <td>0.128006</td>\n",
       "      <td>0.515196</td>\n",
       "      <td>0.054431</td>\n",
       "      <td>...</td>\n",
       "      <td>-7.819255</td>\n",
       "      <td>3.772562</td>\n",
       "      <td>1.150108</td>\n",
       "      <td>49.735140</td>\n",
       "      <td>29.696540</td>\n",
       "      <td>-21.608265</td>\n",
       "      <td>0.684592</td>\n",
       "      <td>-3.657846</td>\n",
       "      <td>4.877181</td>\n",
       "      <td>rock</td>\n",
       "    </tr>\n",
       "  </tbody>\n",
       "</table>\n",
       "<p>5 rows × 199 columns</p>\n",
       "</div>"
      ],
      "text/plain": [
       "           filename       tempo  chroma_stft_mean  chroma_stft_var  \\\n",
       "994  rock.00095.wav  103.359375          0.351977         0.080479   \n",
       "995  rock.00096.wav  117.453835          0.398869         0.075117   \n",
       "996  rock.00097.wav  129.199219          0.431980         0.075221   \n",
       "997  rock.00098.wav  112.347147          0.362635         0.091532   \n",
       "998  rock.00099.wav  123.046875          0.358318         0.085817   \n",
       "\n",
       "     chroma_stft_max  chroma_stft_min  chroma_stft_median  chroma_stft_qt1  \\\n",
       "994              1.0         0.005424            0.263867         0.130719   \n",
       "995              1.0         0.015388            0.323889         0.184963   \n",
       "996              1.0         0.006835            0.370889         0.216633   \n",
       "997              1.0         0.000592            0.274618         0.110386   \n",
       "998              1.0         0.004010            0.262763         0.128006   \n",
       "\n",
       "     chroma_stft_qt2  rms_mean_mean  ...  mfcc_mean_18_qt1  mfcc_mean_18_qt2  \\\n",
       "994         0.486072       0.079446  ...        -10.667875         -2.157617   \n",
       "995         0.541574       0.076423  ...        -11.642376         -3.169349   \n",
       "996         0.591718       0.081598  ...        -17.128510         -8.109871   \n",
       "997         0.549156       0.083802  ...         -9.732834         -0.612432   \n",
       "998         0.515196       0.054431  ...         -7.819255          3.772562   \n",
       "\n",
       "     mfcc_mean_19_mean  mfcc_mean_19_var  mfcc_mean_19_max  mfcc_mean_19_min  \\\n",
       "994          -1.198403         49.946903         21.106043        -22.082030   \n",
       "995          -2.791855         31.719294         14.861097        -19.902115   \n",
       "996          -2.104325         29.860994         16.930466        -21.867311   \n",
       "997          -3.587599         41.296356         20.287260        -22.774874   \n",
       "998           1.150108         49.735140         29.696540        -21.608265   \n",
       "\n",
       "     mfcc_mean_19_median  mfcc_mean_19_qt1  mfcc_mean_19_qt2  label  \n",
       "994            -0.870149         -5.877096          3.354293   rock  \n",
       "995            -3.008246         -6.528909          0.997393   rock  \n",
       "996            -1.863467         -5.494790          1.414281   rock  \n",
       "997            -3.836333         -7.861920          0.380314   rock  \n",
       "998             0.684592         -3.657846          4.877181   rock  \n",
       "\n",
       "[5 rows x 199 columns]"
      ]
     },
     "execution_count": 245,
     "metadata": {},
     "output_type": "execute_result"
    }
   ],
   "source": [
    "df_raw.tail()"
   ]
  },
  {
   "cell_type": "code",
   "execution_count": 246,
   "metadata": {},
   "outputs": [
    {
     "name": "stdout",
     "output_type": "stream",
     "text": [
      "<class 'pandas.core.frame.DataFrame'>\n",
      "RangeIndex: 999 entries, 0 to 998\n",
      "Columns: 199 entries, filename to label\n",
      "dtypes: float64(197), object(2)\n",
      "memory usage: 1.5+ MB\n"
     ]
    }
   ],
   "source": [
    "df_raw.info()"
   ]
  },
  {
   "cell_type": "code",
   "execution_count": 247,
   "metadata": {},
   "outputs": [
    {
     "data": {
      "image/png": "[encoded data removed]",
      "text/plain": [
       "<Figure size 640x480 with 1 Axes>"
      ]
     },
     "metadata": {},
     "output_type": "display_data"
    },
    {
     "data": {
      "text/plain": [
       "<Figure size 640x480 with 0 Axes>"
      ]
     },
     "metadata": {},
     "output_type": "display_data"
    }
   ],
   "source": [
    "df_raw.select_dtypes(\"object\")[\"label\"].value_counts().plot.bar(rot = 30)\n",
    "plt.title(\"Target variable distribution\")\n",
    "plt.xlabel(\"Music Genres\")\n",
    "plt.ylabel(\"Total\")\n",
    "plt.show()\n",
    "plt.savefig(\"../images/classes_distribution.png\", format = \"png\")"
   ]
  },
  {
   "cell_type": "code",
   "execution_count": 248,
   "metadata": {},
   "outputs": [
    {
     "data": {
      "text/plain": [
       "1"
      ]
     },
     "execution_count": 248,
     "metadata": {},
     "output_type": "execute_result"
    }
   ],
   "source": [
    "# só temos um valor unico para toda esta coluna, não nos está a fornecer qualquer tipo de informaçao\n",
    "df_raw.chroma_stft_max.nunique()"
   ]
  },
  {
   "cell_type": "code",
   "execution_count": 249,
   "metadata": {},
   "outputs": [],
   "source": [
    "# como apareceu só um unico valor para a \"chroma_stft_max\" vamos verificar para todos os colunas com max no nome\n",
    "cols_with_max = df_raw.columns[df_raw.columns.str.contains(\"max\")]"
   ]
  },
  {
   "cell_type": "code",
   "execution_count": 250,
   "metadata": {},
   "outputs": [
    {
     "data": {
      "text/plain": [
       "chroma_stft_max                  1\n",
       "rms_mean_max                   984\n",
       "spectral_centroid_mean_max     985\n",
       "spectral_bandwidth_mean_max    985\n",
       "rolloff_mean_max               436\n",
       "zero_crossing_rate_mean_max    662\n",
       "harmony_mean_max               985\n",
       "perceptr_mean_max              939\n",
       "mfcc_mean_0_max                985\n",
       "mfcc_mean_1_max                985\n",
       "mfcc_mean_2_max                985\n",
       "mfcc_mean_3_max                985\n",
       "mfcc_mean_4_max                985\n",
       "mfcc_mean_5_max                984\n",
       "mfcc_mean_6_max                984\n",
       "mfcc_mean_7_max                984\n",
       "mfcc_mean_8_max                985\n",
       "mfcc_mean_9_max                984\n",
       "mfcc_mean_10_max               985\n",
       "mfcc_mean_11_max               984\n",
       "mfcc_mean_12_max               984\n",
       "mfcc_mean_13_max               984\n",
       "mfcc_mean_14_max               984\n",
       "mfcc_mean_15_max               984\n",
       "mfcc_mean_16_max               984\n",
       "mfcc_mean_17_max               984\n",
       "mfcc_mean_18_max               984\n",
       "mfcc_mean_19_max               985\n",
       "dtype: int64"
      ]
     },
     "execution_count": 250,
     "metadata": {},
     "output_type": "execute_result"
    }
   ],
   "source": [
    "# chroma_stft_max é a unica com 1 valor unico por isso é só essa que temos de retirar do dataset \n",
    "df_raw[cols_with_max].nunique()"
   ]
  },
  {
   "cell_type": "code",
   "execution_count": 251,
   "metadata": {},
   "outputs": [],
   "source": [
    "def convert_numeric(df):\n",
    "    df = df.copy()\n",
    "    df[df.select_dtypes(\"number\").columns] = df.select_dtypes(\"number\").astype(np.float32)\n",
    "    return df\n",
    "    \n",
    "def convert_category(df):\n",
    "    df = df.copy()\n",
    "    df[\"label\"] = df[\"label\"].astype(\"category\")\n",
    "    return df\n"
   ]
  },
  {
   "cell_type": "code",
   "execution_count": 252,
   "metadata": {},
   "outputs": [],
   "source": [
    "df = (\n",
    "    df_raw\n",
    "    .pipe(convert_numeric)\n",
    "    .pipe(convert_category)\n",
    "    .drop([\"filename\",\"chroma_stft_max\"], axis = 1)\n",
    "    .rename(columns = {\"label\":\"genre\"})\n",
    "    .sample(frac = 1, random_state = SEED)\n",
    "    .reset_index(drop = True)\n",
    ")"
   ]
  },
  {
   "cell_type": "code",
   "execution_count": 253,
   "metadata": {},
   "outputs": [
    {
     "data": {
      "text/html": [
       "<div>\n",
       "<style scoped>\n",
       "    .dataframe tbody tr th:only-of-type {\n",
       "        vertical-align: middle;\n",
       "    }\n",
       "\n",
       "    .dataframe tbody tr th {\n",
       "        vertical-align: top;\n",
       "    }\n",
       "\n",
       "    .dataframe thead th {\n",
       "        text-align: right;\n",
       "    }\n",
       "</style>\n",
       "<table border=\"1\" class=\"dataframe\">\n",
       "  <thead>\n",
       "    <tr style=\"text-align: right;\">\n",
       "      <th></th>\n",
       "      <th>tempo</th>\n",
       "      <th>chroma_stft_mean</th>\n",
       "      <th>chroma_stft_var</th>\n",
       "      <th>chroma_stft_min</th>\n",
       "      <th>chroma_stft_median</th>\n",
       "      <th>chroma_stft_qt1</th>\n",
       "      <th>chroma_stft_qt2</th>\n",
       "      <th>rms_mean_mean</th>\n",
       "      <th>rms_mean_var</th>\n",
       "      <th>rms_mean_max</th>\n",
       "      <th>...</th>\n",
       "      <th>mfcc_mean_18_qt1</th>\n",
       "      <th>mfcc_mean_18_qt2</th>\n",
       "      <th>mfcc_mean_19_mean</th>\n",
       "      <th>mfcc_mean_19_var</th>\n",
       "      <th>mfcc_mean_19_max</th>\n",
       "      <th>mfcc_mean_19_min</th>\n",
       "      <th>mfcc_mean_19_median</th>\n",
       "      <th>mfcc_mean_19_qt1</th>\n",
       "      <th>mfcc_mean_19_qt2</th>\n",
       "      <th>genre</th>\n",
       "    </tr>\n",
       "  </thead>\n",
       "  <tbody>\n",
       "    <tr>\n",
       "      <th>0</th>\n",
       "      <td>112.347145</td>\n",
       "      <td>0.303251</td>\n",
       "      <td>0.089593</td>\n",
       "      <td>0.001021</td>\n",
       "      <td>0.192122</td>\n",
       "      <td>0.072654</td>\n",
       "      <td>0.431641</td>\n",
       "      <td>0.026787</td>\n",
       "      <td>0.000342</td>\n",
       "      <td>0.109245</td>\n",
       "      <td>...</td>\n",
       "      <td>-7.092338</td>\n",
       "      <td>4.157803</td>\n",
       "      <td>-3.818604</td>\n",
       "      <td>88.638634</td>\n",
       "      <td>37.769127</td>\n",
       "      <td>-29.682255</td>\n",
       "      <td>-5.023259</td>\n",
       "      <td>-9.993509</td>\n",
       "      <td>1.511925</td>\n",
       "      <td>classical</td>\n",
       "    </tr>\n",
       "    <tr>\n",
       "      <th>1</th>\n",
       "      <td>161.499023</td>\n",
       "      <td>0.376988</td>\n",
       "      <td>0.083790</td>\n",
       "      <td>0.003654</td>\n",
       "      <td>0.283156</td>\n",
       "      <td>0.150821</td>\n",
       "      <td>0.535613</td>\n",
       "      <td>0.204271</td>\n",
       "      <td>0.001920</td>\n",
       "      <td>0.354226</td>\n",
       "      <td>...</td>\n",
       "      <td>-5.752795</td>\n",
       "      <td>2.507965</td>\n",
       "      <td>-3.078908</td>\n",
       "      <td>51.755867</td>\n",
       "      <td>16.769207</td>\n",
       "      <td>-24.104900</td>\n",
       "      <td>-3.161209</td>\n",
       "      <td>-7.775723</td>\n",
       "      <td>1.794894</td>\n",
       "      <td>country</td>\n",
       "    </tr>\n",
       "    <tr>\n",
       "      <th>2</th>\n",
       "      <td>135.999176</td>\n",
       "      <td>0.401009</td>\n",
       "      <td>0.089657</td>\n",
       "      <td>0.002326</td>\n",
       "      <td>0.331715</td>\n",
       "      <td>0.145864</td>\n",
       "      <td>0.598354</td>\n",
       "      <td>0.182285</td>\n",
       "      <td>0.003976</td>\n",
       "      <td>0.359245</td>\n",
       "      <td>...</td>\n",
       "      <td>-7.306152</td>\n",
       "      <td>1.171250</td>\n",
       "      <td>0.705028</td>\n",
       "      <td>55.644600</td>\n",
       "      <td>23.745577</td>\n",
       "      <td>-22.897854</td>\n",
       "      <td>0.639649</td>\n",
       "      <td>-4.493629</td>\n",
       "      <td>5.592843</td>\n",
       "      <td>blues</td>\n",
       "    </tr>\n",
       "    <tr>\n",
       "      <th>3</th>\n",
       "      <td>161.499023</td>\n",
       "      <td>0.325428</td>\n",
       "      <td>0.087600</td>\n",
       "      <td>0.001496</td>\n",
       "      <td>0.224143</td>\n",
       "      <td>0.095076</td>\n",
       "      <td>0.459756</td>\n",
       "      <td>0.071379</td>\n",
       "      <td>0.000794</td>\n",
       "      <td>0.171586</td>\n",
       "      <td>...</td>\n",
       "      <td>-5.306351</td>\n",
       "      <td>4.497449</td>\n",
       "      <td>6.321081</td>\n",
       "      <td>100.530167</td>\n",
       "      <td>35.653419</td>\n",
       "      <td>-19.270657</td>\n",
       "      <td>6.225543</td>\n",
       "      <td>-0.877847</td>\n",
       "      <td>12.986521</td>\n",
       "      <td>jazz</td>\n",
       "    </tr>\n",
       "    <tr>\n",
       "      <th>4</th>\n",
       "      <td>112.347145</td>\n",
       "      <td>0.294611</td>\n",
       "      <td>0.088108</td>\n",
       "      <td>0.002020</td>\n",
       "      <td>0.185114</td>\n",
       "      <td>0.071379</td>\n",
       "      <td>0.403091</td>\n",
       "      <td>0.044323</td>\n",
       "      <td>0.001092</td>\n",
       "      <td>0.179927</td>\n",
       "      <td>...</td>\n",
       "      <td>-9.735260</td>\n",
       "      <td>3.697661</td>\n",
       "      <td>-3.284700</td>\n",
       "      <td>97.682816</td>\n",
       "      <td>31.533157</td>\n",
       "      <td>-24.643005</td>\n",
       "      <td>-4.996558</td>\n",
       "      <td>-10.412316</td>\n",
       "      <td>1.571471</td>\n",
       "      <td>classical</td>\n",
       "    </tr>\n",
       "  </tbody>\n",
       "</table>\n",
       "<p>5 rows × 197 columns</p>\n",
       "</div>"
      ],
      "text/plain": [
       "        tempo  chroma_stft_mean  chroma_stft_var  chroma_stft_min  \\\n",
       "0  112.347145          0.303251         0.089593         0.001021   \n",
       "1  161.499023          0.376988         0.083790         0.003654   \n",
       "2  135.999176          0.401009         0.089657         0.002326   \n",
       "3  161.499023          0.325428         0.087600         0.001496   \n",
       "4  112.347145          0.294611         0.088108         0.002020   \n",
       "\n",
       "   chroma_stft_median  chroma_stft_qt1  chroma_stft_qt2  rms_mean_mean  \\\n",
       "0            0.192122         0.072654         0.431641       0.026787   \n",
       "1            0.283156         0.150821         0.535613       0.204271   \n",
       "2            0.331715         0.145864         0.598354       0.182285   \n",
       "3            0.224143         0.095076         0.459756       0.071379   \n",
       "4            0.185114         0.071379         0.403091       0.044323   \n",
       "\n",
       "   rms_mean_var  rms_mean_max  ...  mfcc_mean_18_qt1  mfcc_mean_18_qt2  \\\n",
       "0      0.000342      0.109245  ...         -7.092338          4.157803   \n",
       "1      0.001920      0.354226  ...         -5.752795          2.507965   \n",
       "2      0.003976      0.359245  ...         -7.306152          1.171250   \n",
       "3      0.000794      0.171586  ...         -5.306351          4.497449   \n",
       "4      0.001092      0.179927  ...         -9.735260          3.697661   \n",
       "\n",
       "   mfcc_mean_19_mean  mfcc_mean_19_var  mfcc_mean_19_max  mfcc_mean_19_min  \\\n",
       "0          -3.818604         88.638634         37.769127        -29.682255   \n",
       "1          -3.078908         51.755867         16.769207        -24.104900   \n",
       "2           0.705028         55.644600         23.745577        -22.897854   \n",
       "3           6.321081        100.530167         35.653419        -19.270657   \n",
       "4          -3.284700         97.682816         31.533157        -24.643005   \n",
       "\n",
       "   mfcc_mean_19_median  mfcc_mean_19_qt1  mfcc_mean_19_qt2      genre  \n",
       "0            -5.023259         -9.993509          1.511925  classical  \n",
       "1            -3.161209         -7.775723          1.794894    country  \n",
       "2             0.639649         -4.493629          5.592843      blues  \n",
       "3             6.225543         -0.877847         12.986521       jazz  \n",
       "4            -4.996558        -10.412316          1.571471  classical  \n",
       "\n",
       "[5 rows x 197 columns]"
      ]
     },
     "execution_count": 253,
     "metadata": {},
     "output_type": "execute_result"
    }
   ],
   "source": [
    "df.head()"
   ]
  },
  {
   "cell_type": "code",
   "execution_count": 254,
   "metadata": {},
   "outputs": [
    {
     "name": "stdout",
     "output_type": "stream",
     "text": [
      "<class 'pandas.core.frame.DataFrame'>\n",
      "RangeIndex: 999 entries, 0 to 998\n",
      "Columns: 197 entries, tempo to genre\n",
      "dtypes: category(1), float32(196)\n",
      "memory usage: 766.3 KB\n"
     ]
    }
   ],
   "source": [
    "df.info()"
   ]
  },
  {
   "cell_type": "code",
   "execution_count": 255,
   "metadata": {},
   "outputs": [
    {
     "data": {
      "text/plain": [
       "0"
      ]
     },
     "execution_count": 255,
     "metadata": {},
     "output_type": "execute_result"
    }
   ],
   "source": [
    "df.isna().sum().sum()"
   ]
  },
  {
   "cell_type": "code",
   "execution_count": 273,
   "metadata": {},
   "outputs": [
    {
     "data": {
      "text/html": [
       "<div>\n",
       "<style scoped>\n",
       "    .dataframe tbody tr th:only-of-type {\n",
       "        vertical-align: middle;\n",
       "    }\n",
       "\n",
       "    .dataframe tbody tr th {\n",
       "        vertical-align: top;\n",
       "    }\n",
       "\n",
       "    .dataframe thead th {\n",
       "        text-align: right;\n",
       "    }\n",
       "</style>\n",
       "<table border=\"1\" class=\"dataframe\">\n",
       "  <thead>\n",
       "    <tr style=\"text-align: right;\">\n",
       "      <th></th>\n",
       "      <th>Number of missing values</th>\n",
       "    </tr>\n",
       "  </thead>\n",
       "  <tbody>\n",
       "    <tr>\n",
       "      <th>tempo</th>\n",
       "      <td>0</td>\n",
       "    </tr>\n",
       "    <tr>\n",
       "      <th>chroma_stft_mean</th>\n",
       "      <td>0</td>\n",
       "    </tr>\n",
       "    <tr>\n",
       "      <th>chroma_stft_var</th>\n",
       "      <td>0</td>\n",
       "    </tr>\n",
       "    <tr>\n",
       "      <th>chroma_stft_min</th>\n",
       "      <td>0</td>\n",
       "    </tr>\n",
       "    <tr>\n",
       "      <th>chroma_stft_median</th>\n",
       "      <td>0</td>\n",
       "    </tr>\n",
       "    <tr>\n",
       "      <th>...</th>\n",
       "      <td>...</td>\n",
       "    </tr>\n",
       "    <tr>\n",
       "      <th>mfcc_mean_19_max</th>\n",
       "      <td>0</td>\n",
       "    </tr>\n",
       "    <tr>\n",
       "      <th>mfcc_mean_19_min</th>\n",
       "      <td>0</td>\n",
       "    </tr>\n",
       "    <tr>\n",
       "      <th>mfcc_mean_19_median</th>\n",
       "      <td>0</td>\n",
       "    </tr>\n",
       "    <tr>\n",
       "      <th>mfcc_mean_19_qt1</th>\n",
       "      <td>0</td>\n",
       "    </tr>\n",
       "    <tr>\n",
       "      <th>mfcc_mean_19_qt2</th>\n",
       "      <td>0</td>\n",
       "    </tr>\n",
       "  </tbody>\n",
       "</table>\n",
       "<p>196 rows × 1 columns</p>\n",
       "</div>"
      ],
      "text/plain": [
       "                     Number of missing values\n",
       "tempo                                       0\n",
       "chroma_stft_mean                            0\n",
       "chroma_stft_var                             0\n",
       "chroma_stft_min                             0\n",
       "chroma_stft_median                          0\n",
       "...                                       ...\n",
       "mfcc_mean_19_max                            0\n",
       "mfcc_mean_19_min                            0\n",
       "mfcc_mean_19_median                         0\n",
       "mfcc_mean_19_qt1                            0\n",
       "mfcc_mean_19_qt2                            0\n",
       "\n",
       "[196 rows x 1 columns]"
      ]
     },
     "execution_count": 273,
     "metadata": {},
     "output_type": "execute_result"
    }
   ],
   "source": [
    "pd.DataFrame(df.isnull().sum(), columns=[\"Number of missing values\"])"
   ]
  },
  {
   "cell_type": "code",
   "execution_count": 257,
   "metadata": {},
   "outputs": [],
   "source": [
    "le = LabelEncoder()\n",
    "df[\"genre\"] = le.fit_transform(df[\"genre\"])"
   ]
  },
  {
   "cell_type": "code",
   "execution_count": 258,
   "metadata": {},
   "outputs": [],
   "source": [
    "# le.inverse_transform(df.iloc[np.random.randint(0,999, 10), -1])"
   ]
  },
  {
   "cell_type": "code",
   "execution_count": 259,
   "metadata": {},
   "outputs": [],
   "source": [
    "# sns.pairplot(df, diag_kind=\"kde\", vars = df.columns[:7])\n",
    "# plt.show()"
   ]
  },
  {
   "cell_type": "code",
   "execution_count": 260,
   "metadata": {},
   "outputs": [],
   "source": [
    "y = df.pop(\"genre\").values\n",
    "col_names = df.columns.to_list()\n",
    "X = df.values"
   ]
  },
  {
   "cell_type": "code",
   "execution_count": 261,
   "metadata": {},
   "outputs": [],
   "source": [
    "scaler = StandardScaler()\n",
    "X = scaler.fit_transform(X, y)\n",
    "X = pd.DataFrame(X, columns=col_names)"
   ]
  },
  {
   "cell_type": "code",
   "execution_count": 262,
   "metadata": {},
   "outputs": [],
   "source": [
    "corr_table = X.corr().abs()\n",
    "upper = corr_table.where(np.triu(np.ones(corr_table.shape), k=1).astype(bool))\n",
    "to_drop = [column for column in upper.columns if any(upper[column] > 0.90)]"
   ]
  },
  {
   "cell_type": "code",
   "execution_count": 263,
   "metadata": {},
   "outputs": [
    {
     "data": {
      "text/plain": [
       "91"
      ]
     },
     "execution_count": 263,
     "metadata": {},
     "output_type": "execute_result"
    }
   ],
   "source": [
    "len(to_drop)"
   ]
  },
  {
   "cell_type": "code",
   "execution_count": 264,
   "metadata": {},
   "outputs": [],
   "source": [
    "# sns.pairplot(corr_table, diag_kind=\"kde\", vars = to_drop[:7])\n",
    "# plt.show()"
   ]
  },
  {
   "cell_type": "code",
   "execution_count": 265,
   "metadata": {},
   "outputs": [
    {
     "data": {
      "text/plain": [
       "(999, 105)"
      ]
     },
     "execution_count": 265,
     "metadata": {},
     "output_type": "execute_result"
    }
   ],
   "source": [
    "X = X.drop(to_drop, axis=1)\n",
    "X.shape"
   ]
  },
  {
   "cell_type": "code",
   "execution_count": 266,
   "metadata": {},
   "outputs": [],
   "source": [
    "col_names = X.columns"
   ]
  },
  {
   "cell_type": "code",
   "execution_count": 267,
   "metadata": {},
   "outputs": [],
   "source": [
    "vt = VarianceThreshold(threshold=(.8 * (1 - .8)))\n",
    "\n",
    "X = vt.fit_transform(X,y)"
   ]
  },
  {
   "cell_type": "code",
   "execution_count": 268,
   "metadata": {},
   "outputs": [
    {
     "data": {
      "text/plain": [
       "array([0.99999997, 0.99999999, 1.00000001, 0.99999998, 0.99999999,\n",
       "       0.99999999, 0.99999999, 1.        , 1.00000001, 0.99999999,\n",
       "       1.        , 0.99999997, 1.        , 1.        , 1.00000001,\n",
       "       1.00000002, 0.99999999, 0.99999997, 0.99999995, 1.00000002,\n",
       "       0.99999999, 1.        , 1.00000001, 1.        , 0.99999998,\n",
       "       1.00000001, 1.00000003, 1.00000001, 1.        , 0.99999999,\n",
       "       0.99999997, 1.        , 1.00000001, 1.00000001, 0.99999999,\n",
       "       0.99999999, 1.00000001, 1.00000001, 0.99999998, 1.        ,\n",
       "       1.        , 1.00000001, 0.99999999, 0.99999999, 1.        ,\n",
       "       0.99999998, 1.00000001, 1.00000002, 1.00000001, 1.00000001,\n",
       "       1.00000002, 1.        , 1.        , 0.99999999, 1.00000003,\n",
       "       1.        , 1.        , 1.00000001, 1.        , 1.00000001,\n",
       "       0.99999999, 1.00000001, 0.99999999, 1.00000001, 1.        ,\n",
       "       1.00000001, 1.00000002, 0.99999999, 0.99999999, 0.99999999,\n",
       "       1.00000002, 1.        , 0.99999999, 0.99999999, 0.99999998,\n",
       "       1.00000003, 1.        , 1.        , 1.        , 0.99999997,\n",
       "       0.99999999, 1.00000002, 1.00000003, 0.99999999, 0.99999999,\n",
       "       0.99999999, 1.        , 0.99999997, 0.99999999, 1.        ,\n",
       "       0.99999997, 1.        , 1.00000002, 1.00000001, 0.99999999,\n",
       "       1.        , 1.        , 1.        , 0.99999999, 0.99999999,\n",
       "       0.99999999, 1.        , 1.        , 0.99999998, 0.99999999])"
      ]
     },
     "execution_count": 268,
     "metadata": {},
     "output_type": "execute_result"
    }
   ],
   "source": [
    "vt.variances_"
   ]
  },
  {
   "cell_type": "code",
   "execution_count": 269,
   "metadata": {},
   "outputs": [],
   "source": [
    "X = pd.DataFrame(X, columns=col_names)"
   ]
  },
  {
   "cell_type": "code",
   "execution_count": 270,
   "metadata": {},
   "outputs": [],
   "source": [
    "selector = SelectKBest(score_func=f_classif, k = 50)\n",
    "X = selector.fit_transform(X, y)"
   ]
  },
  {
   "cell_type": "code",
   "execution_count": 271,
   "metadata": {},
   "outputs": [
    {
     "data": {
      "text/plain": [
       "array([175.88084 , 161.59511 , 155.76495 , 136.93243 , 130.78168 ,\n",
       "        97.29304 ,  93.94031 ,  87.79631 ,  83.94059 ,  82.002686,\n",
       "        80.06808 ,  77.62517 ,  74.92161 ,  74.48574 ,  71.89435 ,\n",
       "        71.27053 ,  70.42839 ,  69.99105 ,  68.94176 ,  68.26242 ,\n",
       "        67.32362 ,  65.99397 ,  65.90548 ,  65.089195,  64.527466,\n",
       "        64.14776 ,  62.896885,  62.192013,  61.28872 ,  60.846157,\n",
       "        59.205612,  59.014324,  56.58563 ,  55.344864,  53.539986,\n",
       "        52.68378 ,  52.27679 ,  52.04834 ,  50.56974 ,  48.606693,\n",
       "        47.708336,  46.954258,  46.07122 ,  44.978695,  43.1663  ,\n",
       "        42.00061 ,  41.31299 ,  39.946022,  39.692875,  38.486324],\n",
       "      dtype=float32)"
      ]
     },
     "execution_count": 271,
     "metadata": {},
     "output_type": "execute_result"
    }
   ],
   "source": [
    "np.sort(selector.scores_,)[::-1][:50]"
   ]
  },
  {
   "cell_type": "code",
   "execution_count": 272,
   "metadata": {},
   "outputs": [
    {
     "data": {
      "text/plain": [
       "array(['chroma_stft_mean', 'chroma_stft_var', 'chroma_stft_min',\n",
       "       'rms_mean_mean', 'rms_mean_var', 'rms_mean_max', 'rms_mean_min',\n",
       "       'spectral_centroid_mean_mean', 'spectral_centroid_mean_var',\n",
       "       'spectral_centroid_mean_max', 'spectral_centroid_mean_min',\n",
       "       'spectral_bandwidth_mean_max', 'rolloff_mean_var',\n",
       "       'zero_crossing_rate_mean_var', 'zero_crossing_rate_mean_min',\n",
       "       'harmony_mean_max', 'perceptr_mean_mean', 'perceptr_mean_var',\n",
       "       'mfcc_mean_0_mean', 'mfcc_mean_0_max', 'mfcc_mean_0_min',\n",
       "       'mfcc_mean_1_max', 'mfcc_mean_1_min', 'mfcc_mean_2_mean',\n",
       "       'mfcc_mean_2_max', 'mfcc_mean_3_mean', 'mfcc_mean_3_var',\n",
       "       'mfcc_mean_3_max', 'mfcc_mean_3_min', 'mfcc_mean_4_var',\n",
       "       'mfcc_mean_4_max', 'mfcc_mean_5_mean', 'mfcc_mean_5_var',\n",
       "       'mfcc_mean_5_max', 'mfcc_mean_5_min', 'mfcc_mean_6_mean',\n",
       "       'mfcc_mean_6_var', 'mfcc_mean_6_max', 'mfcc_mean_7_mean',\n",
       "       'mfcc_mean_7_max', 'mfcc_mean_7_min', 'mfcc_mean_8_mean',\n",
       "       'mfcc_mean_8_max', 'mfcc_mean_9_mean', 'mfcc_mean_11_mean',\n",
       "       'mfcc_mean_11_min', 'mfcc_mean_12_mean', 'mfcc_mean_12_max',\n",
       "       'mfcc_mean_14_mean', 'mfcc_mean_16_mean'], dtype=object)"
      ]
     },
     "execution_count": 272,
     "metadata": {},
     "output_type": "execute_result"
    }
   ],
   "source": [
    "selector.get_feature_names_out()"
   ]
  }
 ],
 "metadata": {
  "kernelspec": {
   "display_name": "music_classification",
   "language": "python",
   "name": "python3"
  },
  "language_info": {
   "codemirror_mode": {
    "name": "ipython",
    "version": 3
   },
   "file_extension": ".py",
   "mimetype": "text/x-python",
   "name": "python",
   "nbconvert_exporter": "python",
   "pygments_lexer": "ipython3",
   "version": "3.9.16"
  },
  "orig_nbformat": 4,
  "vscode": {
   "interpreter": {
    "hash": "6a1e31fe0f2a424216b2c0e324fec7f459ac69a343ecfa5524ecca10e86445c6"
   }
  }
 },
 "nbformat": 4,
 "nbformat_minor": 2
}
